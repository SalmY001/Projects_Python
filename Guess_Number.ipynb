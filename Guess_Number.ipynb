{
 "cells": [
  {
   "cell_type": "code",
   "execution_count": 9,
   "id": "a1bfba25-1234-4b0c-aa46-4b04a222fd25",
   "metadata": {},
   "outputs": [
    {
     "name": "stdin",
     "output_type": "stream",
     "text": [
      "Guess the number between 1 and 10: -954\n"
     ]
    },
    {
     "name": "stdout",
     "output_type": "stream",
     "text": [
      "Please enter a number between 1 and 10\n"
     ]
    },
    {
     "name": "stdin",
     "output_type": "stream",
     "text": [
      "Guess the number between 1 and 10: 852\n"
     ]
    },
    {
     "name": "stdout",
     "output_type": "stream",
     "text": [
      "Please enter a number between 1 and 10\n"
     ]
    },
    {
     "name": "stdin",
     "output_type": "stream",
     "text": [
      "Guess the number between 1 and 10: 9\n",
      "Guess the number between 1 and 10: 7\n",
      "Guess the number between 1 and 10: 8\n"
     ]
    },
    {
     "name": "stdout",
     "output_type": "stream",
     "text": [
      "Great!!\n",
      "You guessed the correct number it's: 8\n"
     ]
    }
   ],
   "source": [
    "# Guess the number\n",
    "\n",
    "# Ideas used from freeCodeCamp, https://www.freecodecamp.org/news/python-projects-for-beginners/\n",
    "\n",
    "import random\n",
    "numberRange = random.randint(1,10)\n",
    "for i in range(0,5):\n",
    "    userInput = int(input(\"Guess the number between 1 and 10:\"))\n",
    "    if userInput == numberRange:\n",
    "        print(\"Great!!\")\n",
    "        print(f\"You guessed the correct number it's: {numberRange}\")\n",
    "        break\n",
    "    if userInput>10:\n",
    "        print(\"Please enter a number between 1 and 10\")\n",
    "    if userInput<1:\n",
    "        print(\"Please enter a number between 1 and 10\")   \n",
    "if userInput != numberRange:\n",
    "    print(f\"Your guess is incorrect the number is: {numberRange}\")\n",
    "del userInput\n",
    "del numberRange"
   ]
  },
  {
   "cell_type": "code",
   "execution_count": null,
   "id": "b883317f-124e-475d-a577-9ea4b9f6187e",
   "metadata": {},
   "outputs": [],
   "source": []
  }
 ],
 "metadata": {
  "kernelspec": {
   "display_name": "Python 3 (ipykernel)",
   "language": "python",
   "name": "python3"
  },
  "language_info": {
   "codemirror_mode": {
    "name": "ipython",
    "version": 3
   },
   "file_extension": ".py",
   "mimetype": "text/x-python",
   "name": "python",
   "nbconvert_exporter": "python",
   "pygments_lexer": "ipython3",
   "version": "3.9.7"
  }
 },
 "nbformat": 4,
 "nbformat_minor": 5
}
