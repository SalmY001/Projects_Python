{
 "cells": [
  {
   "cell_type": "code",
   "execution_count": 1,
   "id": "d4fc85b4-f839-4314-a1b6-6a66cb615dad",
   "metadata": {},
   "outputs": [
    {
     "name": "stdout",
     "output_type": "stream",
     "text": [
      "1. roll the dice\n",
      "    2. exit\n"
     ]
    },
    {
     "name": "stdin",
     "output_type": "stream",
     "text": [
      "What do you want to do?\n",
      " 1\n"
     ]
    },
    {
     "name": "stdout",
     "output_type": "stream",
     "text": [
      "The dice has landed on 6\n",
      "1. roll the dice\n",
      "    2. exit\n"
     ]
    },
    {
     "name": "stdin",
     "output_type": "stream",
     "text": [
      "What do you want to do?\n",
      " 1\n"
     ]
    },
    {
     "name": "stdout",
     "output_type": "stream",
     "text": [
      "The dice has landed on 2\n",
      "1. roll the dice\n",
      "    2. exit\n"
     ]
    },
    {
     "name": "stdin",
     "output_type": "stream",
     "text": [
      "What do you want to do?\n",
      " 2\n"
     ]
    }
   ],
   "source": [
    "# Roll the dice\n",
    "\n",
    "# Ideas used from freeCodeCamp, https://www.freecodecamp.org/news/python-projects-for-beginners/\n",
    "\n",
    "\n",
    "import random\n",
    "while True:\n",
    "    print('''1. roll the dice\n",
    "    2. exit''')\n",
    "    dice = int(input(\"What do you want to do?\\n\"))\n",
    "    if dice==1:\n",
    "        faceNumber = random.randint(1,6)\n",
    "        print(\"The dice has landed on\",(faceNumber))\n",
    "    elif 2<dice<=6:\n",
    "        print(\"Please enter number 1 or 2\")\n",
    "    else:\n",
    "        break"
   ]
  },
  {
   "cell_type": "code",
   "execution_count": null,
   "id": "940ea21e-e615-44fa-80cf-83c03d31f415",
   "metadata": {},
   "outputs": [],
   "source": []
  }
 ],
 "metadata": {
  "kernelspec": {
   "display_name": "Python 3 (ipykernel)",
   "language": "python",
   "name": "python3"
  },
  "language_info": {
   "codemirror_mode": {
    "name": "ipython",
    "version": 3
   },
   "file_extension": ".py",
   "mimetype": "text/x-python",
   "name": "python",
   "nbconvert_exporter": "python",
   "pygments_lexer": "ipython3",
   "version": "3.9.7"
  }
 },
 "nbformat": 4,
 "nbformat_minor": 5
}
