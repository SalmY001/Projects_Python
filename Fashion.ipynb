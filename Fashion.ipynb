{
 "cells": [
  {
   "cell_type": "markdown",
   "id": "c076e80b-95b7-4106-a8d2-2ce4151c1b31",
   "metadata": {},
   "source": [
    "# Fashion Dataset"
   ]
  },
  {
   "cell_type": "code",
   "execution_count": 1,
   "id": "dbb9f05e-24e2-439f-80d1-5dc4bce58da4",
   "metadata": {},
   "outputs": [],
   "source": [
    "# import libraries\n",
    "import numpy as np\n",
    "import matplotlib.pyplot as plt\n",
    "import matplotlib.image as mpimg\n",
    "import seaborn as sns\n",
    "import tensorflow as tf\n",
    "from tensorflow.python.framework import ops\n",
    "from tensorflow import keras\n",
    "from PIL import Image"
   ]
  },
  {
   "cell_type": "code",
   "execution_count": 2,
   "id": "2af51256-84b2-4211-8313-ea6ba2a2eafc",
   "metadata": {},
   "outputs": [],
   "source": [
    "# import Fashion MNIST\n",
    "clothes_mnist = tf.keras.datasets.fashion_mnist"
   ]
  },
  {
   "cell_type": "code",
   "execution_count": 3,
   "id": "bd59311e-a18a-451c-9447-e3f32ab12d86",
   "metadata": {},
   "outputs": [],
   "source": [
    "# create tran and test sets\n",
    "(train_images, train_labels), (test_images, test_labels) = clothes_mnist.load_data()"
   ]
  },
  {
   "cell_type": "code",
   "execution_count": 4,
   "id": "43ac80f1-b195-479d-9ae0-ddf1a018c391",
   "metadata": {},
   "outputs": [],
   "source": [
    "# name items in the dataset\n",
    "item_names = ['T-shirt/top', 'Trouser', 'Jumper', 'Dress', 'Coat', 'Sandal', 'Shirt', 'Trainers', 'Bag', 'Ankle Boot']"
   ]
  },
  {
   "cell_type": "code",
   "execution_count": 5,
   "id": "79ed357f-1a5b-44c3-8c69-9496fb3a6b87",
   "metadata": {},
   "outputs": [],
   "source": [
    "#scaling from 0 - 1\n",
    "train_images = train_images / 255.0\n",
    "test_images = test_images / 255.0"
   ]
  },
  {
   "cell_type": "code",
   "execution_count": 6,
   "id": "589965bc-e1c0-40e0-80b7-ff47ff445f63",
   "metadata": {},
   "outputs": [],
   "source": [
    "# define neural network\n",
    "nn = tf.keras.Sequential()\n",
    "\n",
    "nn.add(tf.keras.layers.Flatten(input_shape=(28,28)))\n",
    "nn.add(tf.keras.layers.Dense(128, activation='relu'))\n",
    "nn.add(tf.keras.layers.Dense(10, activation='softmax'))"
   ]
  },
  {
   "cell_type": "code",
   "execution_count": 7,
   "id": "c5cd6516-6ca8-47d3-90aa-4e40870faaf9",
   "metadata": {},
   "outputs": [],
   "source": [
    "# compile model\n",
    "nn.compile(optimizer = 'adam', loss = 'sparse_categorical_crossentropy', metrics =['accuracy'])"
   ]
  },
  {
   "cell_type": "code",
   "execution_count": 8,
   "id": "5e689aac-c7f8-48d7-82c4-f6d4c3910fa1",
   "metadata": {
    "tags": []
   },
   "outputs": [
    {
     "name": "stdout",
     "output_type": "stream",
     "text": [
      "Epoch 1/40\n",
      "1875/1875 [==============================] - 3s 2ms/step - loss: 0.4996 - accuracy: 0.8237\n",
      "Epoch 2/40\n",
      "1875/1875 [==============================] - 3s 2ms/step - loss: 0.3745 - accuracy: 0.8643\n",
      "Epoch 3/40\n",
      "1875/1875 [==============================] - 3s 2ms/step - loss: 0.3347 - accuracy: 0.8794\n",
      "Epoch 4/40\n",
      "1875/1875 [==============================] - 3s 1ms/step - loss: 0.3101 - accuracy: 0.8853\n",
      "Epoch 5/40\n",
      "1875/1875 [==============================] - 3s 1ms/step - loss: 0.2947 - accuracy: 0.8921\n",
      "Epoch 6/40\n",
      "1875/1875 [==============================] - 3s 1ms/step - loss: 0.2778 - accuracy: 0.8975\n",
      "Epoch 7/40\n",
      "1875/1875 [==============================] - 3s 1ms/step - loss: 0.2651 - accuracy: 0.9011\n",
      "Epoch 8/40\n",
      "1875/1875 [==============================] - 3s 2ms/step - loss: 0.2553 - accuracy: 0.9049\n",
      "Epoch 9/40\n",
      "1875/1875 [==============================] - 3s 2ms/step - loss: 0.2465 - accuracy: 0.9076\n",
      "Epoch 10/40\n",
      "1875/1875 [==============================] - 3s 1ms/step - loss: 0.2389 - accuracy: 0.9104\n",
      "Epoch 11/40\n",
      "1875/1875 [==============================] - 3s 1ms/step - loss: 0.2316 - accuracy: 0.9127\n",
      "Epoch 12/40\n",
      "1875/1875 [==============================] - 3s 1ms/step - loss: 0.2244 - accuracy: 0.9162\n",
      "Epoch 13/40\n",
      "1875/1875 [==============================] - 3s 1ms/step - loss: 0.2177 - accuracy: 0.9169\n",
      "Epoch 14/40\n",
      "1875/1875 [==============================] - 3s 2ms/step - loss: 0.2102 - accuracy: 0.9205\n",
      "Epoch 15/40\n",
      "1875/1875 [==============================] - 3s 1ms/step - loss: 0.2055 - accuracy: 0.9233\n",
      "Epoch 16/40\n",
      "1875/1875 [==============================] - 3s 1ms/step - loss: 0.1995 - accuracy: 0.9251\n",
      "Epoch 17/40\n",
      "1875/1875 [==============================] - 3s 1ms/step - loss: 0.1937 - accuracy: 0.9267\n",
      "Epoch 18/40\n",
      "1875/1875 [==============================] - 3s 2ms/step - loss: 0.1891 - accuracy: 0.9291\n",
      "Epoch 19/40\n",
      "1875/1875 [==============================] - 3s 2ms/step - loss: 0.1853 - accuracy: 0.9285\n",
      "Epoch 20/40\n",
      "1875/1875 [==============================] - 3s 2ms/step - loss: 0.1802 - accuracy: 0.9310\n",
      "Epoch 21/40\n",
      "1875/1875 [==============================] - 3s 1ms/step - loss: 0.1745 - accuracy: 0.9343\n",
      "Epoch 22/40\n",
      "1875/1875 [==============================] - 3s 1ms/step - loss: 0.1683 - accuracy: 0.9367\n",
      "Epoch 23/40\n",
      "1875/1875 [==============================] - 3s 1ms/step - loss: 0.1669 - accuracy: 0.9367\n",
      "Epoch 24/40\n",
      "1875/1875 [==============================] - 3s 1ms/step - loss: 0.1629 - accuracy: 0.9389\n",
      "Epoch 25/40\n",
      "1875/1875 [==============================] - 3s 2ms/step - loss: 0.1589 - accuracy: 0.9400\n",
      "Epoch 26/40\n",
      "1875/1875 [==============================] - 3s 1ms/step - loss: 0.1581 - accuracy: 0.9399\n",
      "Epoch 27/40\n",
      "1875/1875 [==============================] - 3s 1ms/step - loss: 0.1530 - accuracy: 0.9418\n",
      "Epoch 28/40\n",
      "1875/1875 [==============================] - 3s 1ms/step - loss: 0.1505 - accuracy: 0.9437\n",
      "Epoch 29/40\n",
      "1875/1875 [==============================] - 3s 1ms/step - loss: 0.1462 - accuracy: 0.9449\n",
      "Epoch 30/40\n",
      "1875/1875 [==============================] - 3s 2ms/step - loss: 0.1414 - accuracy: 0.9462\n",
      "Epoch 31/40\n",
      "1875/1875 [==============================] - 3s 2ms/step - loss: 0.1413 - accuracy: 0.9472\n",
      "Epoch 32/40\n",
      "1875/1875 [==============================] - 3s 1ms/step - loss: 0.1370 - accuracy: 0.9475\n",
      "Epoch 33/40\n",
      "1875/1875 [==============================] - 3s 1ms/step - loss: 0.1332 - accuracy: 0.9502\n",
      "Epoch 34/40\n",
      "1875/1875 [==============================] - 4s 2ms/step - loss: 0.1318 - accuracy: 0.9505\n",
      "Epoch 35/40\n",
      "1875/1875 [==============================] - 3s 2ms/step - loss: 0.1294 - accuracy: 0.9512\n",
      "Epoch 36/40\n",
      "1875/1875 [==============================] - 3s 2ms/step - loss: 0.1264 - accuracy: 0.9521\n",
      "Epoch 37/40\n",
      "1875/1875 [==============================] - 3s 1ms/step - loss: 0.1265 - accuracy: 0.9529\n",
      "Epoch 38/40\n",
      "1875/1875 [==============================] - 3s 2ms/step - loss: 0.1227 - accuracy: 0.9546\n",
      "Epoch 39/40\n",
      "1875/1875 [==============================] - 3s 2ms/step - loss: 0.1185 - accuracy: 0.9558\n",
      "Epoch 40/40\n",
      "1875/1875 [==============================] - 3s 1ms/step - loss: 0.1158 - accuracy: 0.9564\n"
     ]
    },
    {
     "data": {
      "text/plain": [
       "<keras.callbacks.History at 0x2f0801768b0>"
      ]
     },
     "execution_count": 8,
     "metadata": {},
     "output_type": "execute_result"
    }
   ],
   "source": [
    "# fit and train model\n",
    "nn.fit(train_images, train_labels, epochs = 40)"
   ]
  },
  {
   "cell_type": "code",
   "execution_count": 9,
   "id": "5f3b46e3-6039-4a74-bc3c-4766d2e53eff",
   "metadata": {},
   "outputs": [
    {
     "name": "stdout",
     "output_type": "stream",
     "text": [
      "313/313 [==============================] - 1s 2ms/step - loss: 0.4404 - accuracy: 0.8868\n",
      "10,000 image test accuracy: 0.8867999911308289\n"
     ]
    }
   ],
   "source": [
    "# test with 10,000 images\n",
    "test_loss, test_accuracy = nn.evaluate(test_images, test_labels)\n",
    "print('10,000 image test accuracy:', test_accuracy)"
   ]
  },
  {
   "cell_type": "code",
   "execution_count": 10,
   "id": "dfb16cff-ff6e-48a3-8e54-3c534eb77554",
   "metadata": {},
   "outputs": [
    {
     "name": "stdout",
     "output_type": "stream",
     "text": [
      "Prediction Output\n",
      "[[1.0035496e-06 1.5011465e-16 9.9999487e-01 5.8889111e-09 1.7253939e-06\n",
      "  5.8789398e-22 2.3615592e-06 3.6713979e-14 1.4324021e-11 1.7037548e-17]]\n",
      "\n",
      "Our Network has concluded that the image number \"20\" is a Jumper\n",
      "99% Confidence Level\n"
     ]
    }
   ],
   "source": [
    "# test a single item from Fashion_MNIST dataset\n",
    "item = test_images[20]\n",
    "item = (np.expand_dims(item,0))\n",
    "item_prediction = nn.predict(item, steps=1)\n",
    "print('Prediction Output')\n",
    "print(item_prediction)\n",
    "print()\n",
    "image_number = item_prediction.argmax()\n",
    "image = np.amax(item_prediction)\n",
    "print('Our Network has concluded that the image number \"20\" is a '+item_names[image_number])\n",
    "print(str(int(image*100)) + '% Confidence Level')"
   ]
  },
  {
   "cell_type": "code",
   "execution_count": 11,
   "id": "e04395a4-0a08-4e25-88de-a1f2fbd5b390",
   "metadata": {},
   "outputs": [],
   "source": [
    "# Idea used from Python All-in-One For Dummies Book by John Shovic and Alan Simpson, 2019."
   ]
  }
 ],
 "metadata": {
  "kernelspec": {
   "display_name": "Python 3 (ipykernel)",
   "language": "python",
   "name": "python3"
  },
  "language_info": {
   "codemirror_mode": {
    "name": "ipython",
    "version": 3
   },
   "file_extension": ".py",
   "mimetype": "text/x-python",
   "name": "python",
   "nbconvert_exporter": "python",
   "pygments_lexer": "ipython3",
   "version": "3.9.7"
  }
 },
 "nbformat": 4,
 "nbformat_minor": 5
}
